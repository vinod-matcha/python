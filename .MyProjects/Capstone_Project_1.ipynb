{
 "cells": [
  {
   "cell_type": "markdown",
   "metadata": {},
   "source": [
    "###1. **Find PI to the Nth Digit**"
   ]
  },
  {
   "cell_type": "code",
   "execution_count": 5,
   "metadata": {
    "collapsed": true
   },
   "outputs": [],
   "source": [
    "def funPi(n):\n",
    "    x = float(22)/7\n",
    "    #first generate the float object %n1.n2f format and then apply that format over the pi\n",
    "    print 'Value of pi to {a} decimal places : %1.{a}f'.format(a=n) %(x)"
   ]
  },
  {
   "cell_type": "code",
   "execution_count": 6,
   "metadata": {},
   "outputs": [
    {
     "name": "stdout",
     "output_type": "stream",
     "text": [
      "Value of pi to 7 decimal places : 3.1428571\n"
     ]
    }
   ],
   "source": [
    "funPi(7)"
   ]
  },
  {
   "cell_type": "markdown",
   "metadata": {},
   "source": [
    "###2 **Find e to the Nth Digit**"
   ]
  },
  {
   "cell_type": "code",
   "execution_count": 13,
   "metadata": {
    "collapsed": true
   },
   "outputs": [],
   "source": [
    "import math\n",
    "def funExp(n):\n",
    "    #first generate the float object %n1.n2f format and then apply that format over the exp()\n",
    "    print 'Value of e**1 to {a} decimal places is: %1.{a}f' .format(a=n) %(math.exp(1))"
   ]
  },
  {
   "cell_type": "code",
   "execution_count": 14,
   "metadata": {},
   "outputs": [
    {
     "name": "stdout",
     "output_type": "stream",
     "text": [
      "Value of e**1 to 5 decimal places is: 2.71828\n"
     ]
    }
   ],
   "source": [
    "funExp(5)"
   ]
  },
  {
   "cell_type": "markdown",
   "metadata": {},
   "source": [
    "###3 **Fibonacci Sequence**"
   ]
  },
  {
   "cell_type": "code",
   "execution_count": 17,
   "metadata": {
    "collapsed": true
   },
   "outputs": [],
   "source": [
    "def funFibo(n):\n",
    "    a = 0\n",
    "    b = 1\n",
    "    for i in range(n):\n",
    "        a, b = b, a + b\n",
    "        print a\n",
    "            "
   ]
  },
  {
   "cell_type": "code",
   "execution_count": 18,
   "metadata": {},
   "outputs": [
    {
     "name": "stdout",
     "output_type": "stream",
     "text": [
      "1\n",
      "1\n",
      "2\n",
      "3\n",
      "5\n",
      "8\n",
      "13\n"
     ]
    }
   ],
   "source": [
    "funFibo(7)"
   ]
  },
  {
   "cell_type": "markdown",
   "metadata": {
    "collapsed": true
   },
   "source": [
    "###4 ***Prime Factorization *** Identify all prime factors of a number"
   ]
  },
  {
   "cell_type": "code",
   "execution_count": 25,
   "metadata": {
    "collapsed": true
   },
   "outputs": [],
   "source": [
    "def prime_check(n):\n",
    "    #numbers only divisible by itself and 1 are primes. Even numbers are not primes.\n",
    "    #it is sufficient to check if n is divisible by numbers from 3 to sqrt(n).\n",
    "    if n%2 == 0 and n>2 :\n",
    "        #print ('Even, Not a Prime')\n",
    "        return False\n",
    "    else:\n",
    "        for i in range(3, n**1/2+1, 2):\n",
    "            if n%i == 0:\n",
    "                #print ('Not a Prime, divisible by {b}').format(b=i)\n",
    "                return False\n",
    "                break\n",
    "        #print ('{a} is a prime').format(a=n)\n",
    "        return True\n",
    "\n",
    "def find_primefactors(n):\n",
    "    #find all the odd number factors for the number n, as even factors cannot be prime factors\n",
    "    lst=[]\n",
    "    if n%2 == 0: lst.append(2)\n",
    "    lst.extend(filter(lambda x: prime_check(x) and n%x == 0, xrange(3, n/2+1, 2)))\n",
    "    return lst"
   ]
  },
  {
   "cell_type": "code",
   "execution_count": 26,
   "metadata": {
    "scrolled": true
   },
   "outputs": [
    {
     "data": {
      "text/plain": [
       "False"
      ]
     },
     "execution_count": 26,
     "metadata": {},
     "output_type": "execute_result"
    }
   ],
   "source": [
    "prime_check(4)"
   ]
  },
  {
   "cell_type": "code",
   "execution_count": 329,
   "metadata": {},
   "outputs": [
    {
     "data": {
      "text/plain": [
       "[3, 37]"
      ]
     },
     "execution_count": 329,
     "metadata": {},
     "output_type": "execute_result"
    }
   ],
   "source": [
    "find_primefactors(111)"
   ]
  },
  {
   "cell_type": "markdown",
   "metadata": {},
   "source": [
    "###5 ***Next Prime Number*** - Have the program find prime numbers until the user chooses to stop asking for the next one"
   ]
  },
  {
   "cell_type": "code",
   "execution_count": 55,
   "metadata": {
    "collapsed": true
   },
   "outputs": [],
   "source": [
    "def infinite_generator(n=0):\n",
    "    while True:\n",
    "        n = n + 1\n",
    "        yield n\n",
    "\n",
    "def next_prime(num):\n",
    "    nxt = infinite_generator(num)    \n",
    "    if prime_check(num) == True:\n",
    "        print (num)\n",
    "    while raw_input('Next Prime ?')[0].upper() == 'Y':\n",
    "        while True:\n",
    "            x = next(nxt) #instead of a generator we can use simple variable i=i+1 also\n",
    "            if prime_check(x) == True:\n",
    "                print (x)\n",
    "                break\n",
    "            else: \n",
    "                continue\n",
    "    print ('Bye...')\n"
   ]
  },
  {
   "cell_type": "code",
   "execution_count": 57,
   "metadata": {},
   "outputs": [
    {
     "name": "stdout",
     "output_type": "stream",
     "text": [
      "Next Prime ?y\n",
      "31379\n",
      "Next Prime ?n\n",
      "Bye...\n"
     ]
    }
   ],
   "source": [
    "next_prime(31365)"
   ]
  },
  {
   "cell_type": "markdown",
   "metadata": {},
   "source": [
    "###6 ***Find Cost of Tile to Cover W x H Floor*** - Calculate the total cost of tile it would take to cover a floor plan of width and height, using a cost entered by the user."
   ]
  },
  {
   "cell_type": "code",
   "execution_count": 58,
   "metadata": {
    "collapsed": true
   },
   "outputs": [],
   "source": [
    "def tiles_cost(width, height, sft_price):\n",
    "    return width*height*sft_price\n",
    "    "
   ]
  },
  {
   "cell_type": "code",
   "execution_count": 59,
   "metadata": {},
   "outputs": [
    {
     "data": {
      "text/plain": [
       "1500.0"
      ]
     },
     "execution_count": 59,
     "metadata": {},
     "output_type": "execute_result"
    }
   ],
   "source": [
    "tiles_cost(20, 30, 2.5)"
   ]
  },
  {
   "cell_type": "markdown",
   "metadata": {},
   "source": [
    "###7 ***Mortgage Calculator ***- Calculate the monthly payments of a fixed term mortgage over given Nth terms at a given interest rate. Also figure out how long it will take the user to pay back the loan. For added complexity, add an option for users to select the compounding interval (Monthly, Weekly, Daily, Continually)."
   ]
  },
  {
   "cell_type": "code",
   "execution_count": 1,
   "metadata": {},
   "outputs": [
    {
     "data": {
      "application/vnd.jupyter.widget-view+json": {
       "model_id": "b0da8a77ef31477da5fd5797d93b8d85",
       "version_major": 2,
       "version_minor": 0
      },
      "text/plain": [
       "A Jupyter Widget"
      ]
     },
     "metadata": {},
     "output_type": "display_data"
    }
   ],
   "source": [
    "from ipywidgets import interact, interactive, fixed\n",
    "import ipywidgets as widgets\n",
    "from IPython.display import display\n",
    "\n",
    "def mortgage_calc(principal, rate, no_of_payments):\n",
    "    '''takes arguments principal, rate, no_of_payments'''\n",
    "    n = no_of_payments\n",
    "    p = principal\n",
    "    r = rate\n",
    "    c = (1+round(r,3))**n\n",
    "    m = round(p * (float(r*c/(c-1))), 3)\n",
    "    return m\n",
    "\n",
    "interact(mortgage_calc, \n",
    "principal = widgets.IntSlider(value=200000,min=20000,max=500000,step=20000,description='Loan $'),\n",
    "rate = widgets.FloatSlider(value=0.05,min=0.01,max=0.12,step=0.01,description='Rate %'),\n",
    "no_of_payments = widgets.IntSlider(value=30,min=5,max=35,step=2,description='years #')\n",
    "        );"
   ]
  },
  {
   "cell_type": "markdown",
   "metadata": {
    "collapsed": true
   },
   "source": [
    "###8 ***Change Return Program*** - The user enters a cost and then the amount of money given. The program will figure out the change and the number of quarters, dimes, nickels, pennies needed for the change."
   ]
  },
  {
   "cell_type": "code",
   "execution_count": 1,
   "metadata": {
    "collapsed": true
   },
   "outputs": [],
   "source": [
    "def change_return(Price, Pay_Amount):\n",
    "    #dictionary denotes the keys as coin denominations and value as count of coins\n",
    "    dict = {\"Cents\":[25,0], \"Dimes\":[10,0], \"Nickels\":[5,0], \"Pennies\":[1,0]}\n",
    "    \n",
    "    if Price > Pay_Amount:\n",
    "        print \"\\nInsufficient Funds\"\n",
    "    elif Price == Pay_Amount:\n",
    "        print \"\\nThankyou\"\n",
    "    else:\n",
    "        diff = str(round(float(Pay_Amount - Price),2)).split('.')\n",
    "        print (\"\\nReturn Amount\")\n",
    "        print (\" Dollars : %r \") %(int(diff[0]))\n",
    "        \n",
    "        #left justify with 0 to the decimal portion to keep it as 2 integer values\n",
    "        change = int(diff[1].ljust(2,'0'))\n",
    "\n",
    "        #loop through each of the coin denomination, and check until the amount is >= denomination\n",
    "        for i in sorted(dict.keys()):\n",
    "            while change >= dict[i][0]:\n",
    "                #increase the count of coins\n",
    "                dict[i][1] += 1\n",
    "                #decrease the amount by equal amount\n",
    "                change = change - dict[i][0]\n",
    "            print (\" Values are {a} : {n} \").format(a=i, n=dict[i][1])\n"
   ]
  },
  {
   "cell_type": "code",
   "execution_count": null,
   "metadata": {},
   "outputs": [
    {
     "name": "stdout",
     "output_type": "stream",
     "text": [
      "Cost of product:65.43\n"
     ]
    }
   ],
   "source": [
    "while True:\n",
    "    try:\n",
    "        Price = input(\"Cost of product:\")\n",
    "        Pay_Amount = input(\"Payment amount:\")\n",
    "        change_return(Price, Pay_Amount)\n",
    "    except:\n",
    "        print(\"Enter numeric value\")\n",
    "    else:\n",
    "        break"
   ]
  },
  {
   "cell_type": "markdown",
   "metadata": {},
   "source": [
    "###9 ***Binary to Decimal and Back Converter*** - Develop a converter to convert a decimal number to binary or a binary number to its decimal equivalent\n",
    "        "
   ]
  },
  {
   "cell_type": "code",
   "execution_count": 227,
   "metadata": {
    "collapsed": true
   },
   "outputs": [],
   "source": [
    "import re\n",
    "\n",
    "def convert_bin_dec(number, bin_dec):\n",
    "    lst = []\n",
    "    val = 0\n",
    "    #Decimal to binary conversion\n",
    "    if bin_dec == 'bin':\n",
    "        #Append all the remainders with divisor as 2 until number>0\n",
    "        while number>0:\n",
    "            remainder = number%2\n",
    "            lst.append(remainder)\n",
    "            quotient = (number-remainder)/2\n",
    "            number = quotient\n",
    "        #append the last remaining quotient\n",
    "        return lst[::-1]\n",
    "    #binary to decimal conversion\n",
    "    elif bin_dec == 'dec':\n",
    "        #check if valid binary is sent as input\n",
    "        if len(re.findall('[^10]', str(number))) == 0:\n",
    "            #enumerate generates list of tuples with position and value, string reversed for correct binary to decimal formula\n",
    "            for i, num in enumerate(re.findall('.', str(number))[::-1]):\n",
    "                #print i, num, val, pow(2,i)\n",
    "                val += int(num)*pow(2,i)\n",
    "            return val\n",
    "        else:\n",
    "            print 'Invalid binary number'\n",
    "    else:\n",
    "        print(\"Invalid selection\")"
   ]
  },
  {
   "cell_type": "code",
   "execution_count": 230,
   "metadata": {},
   "outputs": [
    {
     "data": {
      "text/plain": [
       "2830"
      ]
     },
     "execution_count": 230,
     "metadata": {},
     "output_type": "execute_result"
    }
   ],
   "source": [
    "convert_bin_dec(101100001110, 'dec')"
   ]
  },
  {
   "cell_type": "code",
   "execution_count": null,
   "metadata": {
    "collapsed": true
   },
   "outputs": [],
   "source": []
  }
 ],
 "metadata": {
  "kernelspec": {
   "display_name": "Python 2",
   "language": "python",
   "name": "python2"
  },
  "language_info": {
   "codemirror_mode": {
    "name": "ipython",
    "version": 2
   },
   "file_extension": ".py",
   "mimetype": "text/x-python",
   "name": "python",
   "nbconvert_exporter": "python",
   "pygments_lexer": "ipython2",
   "version": "2.7.14"
  }
 },
 "nbformat": 4,
 "nbformat_minor": 2
}
