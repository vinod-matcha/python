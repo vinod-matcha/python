{
 "cells": [
  {
   "cell_type": "code",
   "execution_count": 15,
   "metadata": {
    "collapsed": true
   },
   "outputs": [],
   "source": [
    "def fact(n, output = ''):\n",
    "    '''\n",
    "    factorial implementation using recursion\n",
    "    '''\n",
    "    if n == 0:\n",
    "        #handle base case, no call to function again: if n=0, then n!=1\n",
    "        print ('n : %d, base case 0! returns 1' %(1))\n",
    "        return 1\n",
    "    else:\n",
    "        output = output + str(n) + ' * '\n",
    "        print output\n",
    "        #print ('n : %d * fact(%d)' %(n, n-1))\n",
    "        return n * fact(n-1, output)\n",
    "    "
   ]
  },
  {
   "cell_type": "code",
   "execution_count": 16,
   "metadata": {},
   "outputs": [
    {
     "name": "stdout",
     "output_type": "stream",
     "text": [
      "5 * \n",
      "5 * 4 * \n",
      "5 * 4 * 3 * \n",
      "5 * 4 * 3 * 2 * \n",
      "5 * 4 * 3 * 2 * 1 * \n",
      "n : 1, base case 0! returns 1\n"
     ]
    },
    {
     "data": {
      "text/plain": [
       "120"
      ]
     },
     "execution_count": 16,
     "metadata": {},
     "output_type": "execute_result"
    }
   ],
   "source": [
    "fact(5)"
   ]
  },
  {
   "cell_type": "code",
   "execution_count": null,
   "metadata": {
    "collapsed": true
   },
   "outputs": [],
   "source": []
  }
 ],
 "metadata": {
  "kernelspec": {
   "display_name": "Python 2",
   "language": "python",
   "name": "python2"
  },
  "language_info": {
   "codemirror_mode": {
    "name": "ipython",
    "version": 2
   },
   "file_extension": ".py",
   "mimetype": "text/x-python",
   "name": "python",
   "nbconvert_exporter": "python",
   "pygments_lexer": "ipython2",
   "version": "2.7.14"
  }
 },
 "nbformat": 4,
 "nbformat_minor": 2
}
