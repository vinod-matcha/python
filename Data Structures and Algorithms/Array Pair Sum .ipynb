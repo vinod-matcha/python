{
 "cells": [
  {
   "cell_type": "markdown",
   "metadata": {},
   "source": [
    "# Array Pair Sum\n",
    "\n",
    "## Problem\n",
    "\n",
    "Given an integer array, output all the ** *unique* ** pairs that sum up to a specific value **k**.\n",
    "\n",
    "So the input:\n",
    "    \n",
    "    pair_sum([1,3,2,2],4)\n",
    "\n",
    "would return **2** pairs:\n",
    "\n",
    "     (1,3)\n",
    "     (2,2)\n",
    "\n",
    "**NOTE: FOR TESTING PURPOSES CHANGE YOUR FUNCTION SO IT OUTPUTS THE NUMBER OF PAIRS**\n",
    "\n",
    "## Solution\n",
    "\n",
    "Fill out your solution below:"
   ]
  },
  {
   "cell_type": "code",
   "execution_count": 189,
   "metadata": {},
   "outputs": [],
   "source": [
    "def pair_sum(arr, k):\n",
    "    '''\n",
    "    generating pairs which add to k, by single linear scan of input array. By checking if the diff between current element \n",
    "    in array and 'k', is available in the previously scanned array elements (during the linear scan)\n",
    "    Has O(n) complexity\n",
    "    '''\n",
    "    seen = set()\n",
    "    output = set()\n",
    "    \n",
    "    for i in arr:\n",
    "        diff = k - i\n",
    "        #checking if the previously added values to seen equal to the diff value, so that pair can be formed\n",
    "        if diff not in seen:\n",
    "            seen.add(i)\n",
    "        else:\n",
    "            seen.add(i)\n",
    "            t=(i, k-i)\n",
    "            #set can only have Similar elements and to prevent duplicates like (1,2) & (2,1)\n",
    "            output.add( (min(i,diff), max(i,diff)) )\n",
    "    \n",
    "    return len(output)\n",
    "\n",
    "\n",
    "def pair_sum_2(arr,k):\n",
    "    '''\n",
    "    Using set data structure to remove any duplicates, without python slice trick\n",
    "    Has O(^2) complexity\n",
    "    '''\n",
    "    lst = []\n",
    "    cnt = 0\n",
    "    leng = len(arr)\n",
    "    \n",
    "    arr = sorted(arr) #sorting the array to ensure there are no mirror image tuples formed, which are equal\\duplicate\n",
    "    for i in arr:\n",
    "        cnt += 1\n",
    "        for p in xrange(cnt, leng):\n",
    "            if i + arr[p] == k:\n",
    "                t = (i, arr[p])\n",
    "                lst.append(t) #adding tuples into list\n",
    "\n",
    "    return len(set(lst)) #length of the set formed from list\n",
    "\n",
    "def pair_sum_py(arr,k):\n",
    "    '''\n",
    "    Using set data structure to remove any duplicates, string slicing to prevent element being added to itself.\n",
    "    Has O(n^2) complexity\n",
    "    '''\n",
    "    lst = []\n",
    "    cnt = 0\n",
    "    arr = sorted(arr) #sorting the array to ensure there are no mirror image tuples formed, which are equal\\duplicate\n",
    "    for i in arr:\n",
    "        cnt += 1\n",
    "        for j in arr[cnt:]:\n",
    "            if i + j == k:\n",
    "                lst.append((i,j)) #adding tuples into list\n",
    "            else:\n",
    "                continue\n",
    "    return len(set(lst)) #length of the set formed from list"
   ]
  },
  {
   "cell_type": "code",
   "execution_count": 190,
   "metadata": {},
   "outputs": [
    {
     "name": "stdout",
     "output_type": "stream",
     "text": [
      "100000 loops, best of 3: 2.46 µs per loop\n"
     ]
    }
   ],
   "source": [
    "%timeit pair_sum([1,3,2,2],4)"
   ]
  },
  {
   "cell_type": "code",
   "execution_count": 191,
   "metadata": {},
   "outputs": [
    {
     "name": "stdout",
     "output_type": "stream",
     "text": [
      "The slowest run took 5.67 times longer than the fastest. This could mean that an intermediate result is being cached.\n",
      "100000 loops, best of 3: 2.55 µs per loop\n"
     ]
    }
   ],
   "source": [
    "%timeit pair_sum_py([1,3,2,2],4)"
   ]
  },
  {
   "cell_type": "code",
   "execution_count": 192,
   "metadata": {},
   "outputs": [
    {
     "name": "stdout",
     "output_type": "stream",
     "text": [
      "100000 loops, best of 3: 3.17 µs per loop\n"
     ]
    }
   ],
   "source": [
    "%timeit pair_sum_2([1,3,2,2],4)"
   ]
  },
  {
   "cell_type": "markdown",
   "metadata": {},
   "source": [
    "# Test Your Solution"
   ]
  },
  {
   "cell_type": "code",
   "execution_count": 193,
   "metadata": {},
   "outputs": [
    {
     "name": "stdout",
     "output_type": "stream",
     "text": [
      "ALL TEST CASES PASSED\n",
      "ALL TEST CASES PASSED\n",
      "ALL TEST CASES PASSED\n"
     ]
    },
    {
     "data": {
      "text/plain": [
       "(None, None, None)"
      ]
     },
     "execution_count": 193,
     "metadata": {},
     "output_type": "execute_result"
    }
   ],
   "source": [
    "\"\"\"\n",
    "RUN THIS CELL TO TEST YOUR SOLUTION\n",
    "\"\"\"\n",
    "from nose.tools import assert_equal\n",
    "\n",
    "class TestPair(object):\n",
    "    \n",
    "    def test(self,sol):\n",
    "        assert_equal(sol([1,9,2,8,3,7,4,6,5,5,13,14,11,13,-1],10),6)\n",
    "        assert_equal(sol([1,2,3,1],3),1)\n",
    "        assert_equal(sol([1,3,2,2],4),2)\n",
    "        print 'ALL TEST CASES PASSED'\n",
    "        \n",
    "#Run tests\n",
    "t = TestPair()\n",
    "t.test(pair_sum), t.test(pair_sum_py), t.test(pair_sum_2)\n",
    "    "
   ]
  },
  {
   "cell_type": "markdown",
   "metadata": {},
   "source": [
    "## Good Job!"
   ]
  }
 ],
 "metadata": {
  "kernelspec": {
   "display_name": "Python 2",
   "language": "python",
   "name": "python2"
  },
  "language_info": {
   "codemirror_mode": {
    "name": "ipython",
    "version": 2
   },
   "file_extension": ".py",
   "mimetype": "text/x-python",
   "name": "python",
   "nbconvert_exporter": "python",
   "pygments_lexer": "ipython2",
   "version": "2.7.14"
  }
 },
 "nbformat": 4,
 "nbformat_minor": 1
}
