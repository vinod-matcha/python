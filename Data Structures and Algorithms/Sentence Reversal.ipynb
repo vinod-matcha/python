{
 "cells": [
  {
   "cell_type": "markdown",
   "metadata": {},
   "source": [
    "# Sentence Reversal\n",
    "\n",
    "## Problem\n",
    "\n",
    "Given a string of words, reverse all the words. For example:\n",
    "\n",
    "Given:\n",
    "    \n",
    "    'This is the best'\n",
    "\n",
    "Return:\n",
    "\n",
    "    'best the is This'\n",
    "\n",
    "As part of this exercise you should remove all leading and trailing whitespace. So that inputs such as:\n",
    "\n",
    "    '  space here'  and 'space here      '\n",
    "\n",
    "both become:\n",
    "\n",
    "    'here space'\n",
    "\n",
    "## Solution\n",
    "\n",
    "Fill out your solution below:"
   ]
  },
  {
   "cell_type": "code",
   "execution_count": 4,
   "metadata": {
    "collapsed": true
   },
   "outputs": [],
   "source": [
    "def rev_word(s):\n",
    "    '''\n",
    "    function reverses the sentence, keeping the words intact:\n",
    "    split string into list by removing all spaces\n",
    "    reverse list\n",
    "    concatenate the reversed list with spaces in between\n",
    "    '''\n",
    "    start_pos = end_pos = new_index_pos = 0\n",
    "    cnt = 1\n",
    "    check = 'Y'\n",
    "    reverse_stnce = ''\n",
    "    \n",
    "    # split into words and remove spaces using custom function\n",
    "    lst_stnce = my_split(s)\n",
    "    \n",
    "    stnce_len = len(lst_stnce)\n",
    "    \n",
    "    #declare a list with length equal to the length of string, which is used to position the char from string in their \n",
    "    #new reversed position\n",
    "    reverse_lst = [1 for i in xrange(stnce_len)]\n",
    "    \n",
    "    for word in lst_stnce:\n",
    "       \n",
    "        #calculate the new index position in list\n",
    "        new_index_pos = stnce_len - cnt\n",
    "        #assign the char its new index position\n",
    "        reverse_lst[new_index_pos] = word\n",
    "        #increment the counter for index calculation\n",
    "        cnt += 1        \n",
    "        \n",
    "    #print reverse_lst\n",
    "    new_stnce = reverse_lst\n",
    "    new_len = len(new_stnce)\n",
    "    new_cnt = 1\n",
    "    #convert list elements to string, by excluding the trailing and leading spaces\n",
    "    \n",
    "    for i in new_stnce:\n",
    "        #conditions to add space only after a non blank word, as we split on space earlier\n",
    "        #not to add space at end of sentence\n",
    "        if new_cnt != new_len and i != '':  \n",
    "            reverse_stnce = reverse_stnce + i + ' '\n",
    "        else:\n",
    "            reverse_stnce = reverse_stnce + i\n",
    "        new_cnt += 1\n",
    "        \n",
    "    return reverse_stnce\n",
    "\n",
    "    pass\n",
    "\n",
    "\n",
    "def my_split(in_string):\n",
    "    '''\n",
    "    split function which removes multiple spaces and adds workds to a list\n",
    "    '''\n",
    "    prev_char = curr_char = prev_word = curr_word = ''\n",
    "    lst = []\n",
    "    \n",
    "    for i in in_string:\n",
    "        curr_char = i\n",
    "        #add the word only if curr char is space and prev char is not space\n",
    "        #prev char is not blank : edge case, where first char in string is space\n",
    "        if curr_char == ' ' and prev_char != ' ' and prev_char != '':\n",
    "            lst.append(prev_word)\n",
    "            prev_word = ''\n",
    "        #append only if curr char is not space\n",
    "        elif curr_char != ' ':\n",
    "            curr_word = prev_word + curr_char\n",
    "            prev_word = curr_word\n",
    "\n",
    "        prev_char = curr_char\n",
    "    \n",
    "    #append last word\n",
    "    #edge case to handle if end of string has more than 1 space\n",
    "    if curr_char != ' ':\n",
    "        lst.append(curr_word)\n",
    "    \n",
    "    return lst\n",
    "    \n",
    "            \n",
    "############################################################################################\n",
    "\n",
    "def rev_string(s):\n",
    "    '''\n",
    "    function reverses an input string and removes leading and trailing spaces of the string\n",
    "    '''\n",
    "    start_pos = end_pos = new_index_pos = 0\n",
    "    cnt = 1\n",
    "    check = 'Y'\n",
    "    reverse_str = ''\n",
    "    str_len = len(s)\n",
    "    \n",
    "    #declare a list with length equal to the length of string, which is used to position the char from string in their \n",
    "    #new reversed position\n",
    "    reverse_lst = [1 for i in xrange(str_len)]\n",
    "    \n",
    "    for char in s:\n",
    "       \n",
    "        #calculate the new index position in list\n",
    "        new_index_pos = str_len - cnt\n",
    "        #assign the char its new index position\n",
    "        reverse_lst[new_index_pos] = char\n",
    "        \n",
    "        #identify the position of first non space character, which is last non space character in reversed string\n",
    "        if char != ' ' and check == 'Y':\n",
    "            check ='N'\n",
    "            end_pos = new_index_pos\n",
    "        \n",
    "        #identify the position of last non space character, which is first non space character in reversed string\n",
    "        if char != ' ':\n",
    "            start_pos = new_index_pos\n",
    "        \n",
    "        #increment the counter for index calculation\n",
    "        cnt += 1        \n",
    "    \n",
    "    #convert list elements to string\n",
    "    for i in reverse_lst[start_pos:end_pos+1]:\n",
    "        reverse_str = reverse_str + i\n",
    "    \n",
    "    return reverse_str\n",
    "\n",
    "    pass"
   ]
  },
  {
   "cell_type": "code",
   "execution_count": 11,
   "metadata": {
    "collapsed": true
   },
   "outputs": [],
   "source": [
    "def rev_word3(s):\n",
    "    \"\"\"\n",
    "    Tutor UDEMY code\n",
    "    Manually doing the splits on the spaces.\n",
    "    \"\"\"\n",
    "    \n",
    "    words = []\n",
    "    length = len(s)\n",
    "    spaces = [' ']\n",
    "    \n",
    "    # Index Tracker\n",
    "    i = 0\n",
    "    \n",
    "    # While index is less than length of string\n",
    "    while i < length:\n",
    "        \n",
    "        # If element isn't a space\n",
    "        if s[i] not in spaces:\n",
    "            \n",
    "            # The word starts at this index\n",
    "            word_start = i\n",
    "            \n",
    "            while i < length and s[i] not in spaces:\n",
    "                \n",
    "                # Get index where word ends\n",
    "                i += 1\n",
    "            # Append that word to the list\n",
    "            words.append(s[word_start:i])\n",
    "        # Add to index\n",
    "        i += 1\n",
    "        \n",
    "    # Join the reversed words\n",
    "    return \" \".join(reversed(words))"
   ]
  },
  {
   "cell_type": "code",
   "execution_count": 18,
   "metadata": {
    "collapsed": true
   },
   "outputs": [],
   "source": [
    "def rev_word_4(s):\n",
    "    '''\n",
    "    function reverses the sentence, keeping the words intact:\n",
    "    split string into list by removing all spaces\n",
    "    use reversed and join function similar to UDEMY Tutor to test Time Complexity\n",
    "    '''\n",
    "    # split into words and remove spaces using custom function\n",
    "    lst_stnce = my_split(s)  \n",
    "        \n",
    "    #print reverse_lst\n",
    "    return \" \".join(reversed(lst_stnce))\n",
    "\n",
    "    pass"
   ]
  },
  {
   "cell_type": "code",
   "execution_count": 5,
   "metadata": {},
   "outputs": [
    {
     "data": {
      "text/plain": [
       "'od vin'"
      ]
     },
     "execution_count": 5,
     "metadata": {},
     "output_type": "execute_result"
    }
   ],
   "source": [
    "rev_word(' vin   od')"
   ]
  },
  {
   "cell_type": "code",
   "execution_count": 6,
   "metadata": {},
   "outputs": [
    {
     "data": {
      "text/plain": [
       "['i', 'am', 'vinod', 'matcha']"
      ]
     },
     "execution_count": 6,
     "metadata": {},
     "output_type": "execute_result"
    }
   ],
   "source": [
    "my_split('  i am vinod     matcha    ')"
   ]
  },
  {
   "cell_type": "code",
   "execution_count": 7,
   "metadata": {},
   "outputs": [
    {
     "data": {
      "text/plain": [
       "'go? to ready you are John, Hi'"
      ]
     },
     "execution_count": 7,
     "metadata": {},
     "output_type": "execute_result"
    }
   ],
   "source": [
    "rev_word('Hi John,   are you ready to go?')"
   ]
  },
  {
   "cell_type": "code",
   "execution_count": 8,
   "metadata": {},
   "outputs": [
    {
     "data": {
      "text/plain": [
       "'before space'"
      ]
     },
     "execution_count": 8,
     "metadata": {},
     "output_type": "execute_result"
    }
   ],
   "source": [
    "rev_word('space before')"
   ]
  },
  {
   "cell_type": "code",
   "execution_count": 9,
   "metadata": {},
   "outputs": [
    {
     "data": {
      "text/plain": [
       "'you are how John Hello'"
      ]
     },
     "execution_count": 9,
     "metadata": {},
     "output_type": "execute_result"
    }
   ],
   "source": [
    "rev_word('   Hello John    how are you   ')"
   ]
  },
  {
   "cell_type": "code",
   "execution_count": 42,
   "metadata": {},
   "outputs": [],
   "source": [
    "#Using very lage string to Test the time complexity between \n",
    "#rev_word3# and #rev_word_4#"
   ]
  },
  {
   "cell_type": "code",
   "execution_count": 37,
   "metadata": {},
   "outputs": [
    {
     "name": "stdout",
     "output_type": "stream",
     "text": [
      "100 loops, best of 3: 2.5 ms per loop\n"
     ]
    }
   ],
   "source": [
    "%timeit rev_word('   Hello John    how are you he ho      Hello John    how are you he ho    Hello John    how are you he ho    Hello John    how are you he ho    Hello John    how are you he ho    Hello John    how are you he ho    Hello John    how are you he ho   Hello John    how are you he ho      Hello John    how are you he ho    Hello John    how are you he ho    Hello John    how are you he ho    Hello John    how are you he ho    Hello John    how are you he ho    Hello John    how are you he ho   Hello John    how are you he ho      Hello John    how are you he ho    Hello John    how are you he ho    Hello John    how are you he ho    Hello John    how are you he ho    Hello John    how are you he ho    Hello John    how are you he ho   Hello John    how are you he ho      Hello John    how are you he ho    Hello John    how are you he ho    Hello John    how are you he ho    Hello John    how are you he ho    Hello John    how are you he ho    Hello John    how are you he ho   Hello John    how are you he ho      Hello John    how are you he ho    Hello John    how are you he ho    Hello John    how are you he ho    Hello John    how are you he ho    Hello John    how are you he ho    Hello John    how are you he ho   Hello John    how are you he ho      Hello John    how are you he ho    Hello John    how are you he ho    Hello John    how are you he ho    Hello John    how are you he ho    Hello John    how are you he ho    Hello John    how are you he ho   Hello John    how are you he ho      Hello John    how are you he ho    Hello John    how are you he ho    Hello John    how are you he ho    Hello John    how are you he ho    Hello John    how are you he ho    Hello John    how are you he ho   Hello John    how are you he ho      Hello John    how are you he ho    Hello John    how are you he ho    Hello John    how are you he ho    Hello John    how are you he ho    Hello John    how are you he ho    Hello John    how are you he ho   Hello John    how are you he ho      Hello John    how are you he ho    Hello John    how are you he ho    Hello John    how are you he ho    Hello John    how are you he ho    Hello John    how are you he ho    Hello John    how are you he ho   Hello John    how are you he ho      Hello John    how are you he ho    Hello John    how are you he ho    Hello John    how are you he ho    Hello John    how are you he ho    Hello John    how are you he ho    Hello John    how are you he ho   Hello John    how are you he ho      Hello John    how are you he ho    Hello John    how are you he ho    Hello John    how are you he ho    Hello John    how are you he ho    Hello John    how are you he ho    Hello John    how are you he ho     Hello John    how are you he ho      Hello John    how are you he ho    Hello John    how are you he ho    Hello John    how are you he ho    Hello John    how are you he ho    Hello John    how are you he ho    Hello John    how are you he ho   Hello John    how are you he ho      Hello John    how are you he ho    Hello John    how are you he ho    Hello John    how are you he ho    Hello John    how are you he ho    Hello John    how are you he ho    Hello John    how are you he ho   Hello John    how are you he ho      Hello John    how are you he ho    Hello John    how are you he ho    Hello John    how are you he ho    Hello John    how are you he ho    Hello John    how are you he ho    Hello John    how are you he ho   Hello John    how are you he ho      Hello John    how are you he ho    Hello John    how are you he ho    Hello John    how are you he ho    Hello John    how are you he ho    Hello John    how are you he ho    Hello John    how are you he ho   Hello John    how are you he ho      Hello John    how are you he ho    Hello John    how are you he ho    Hello John    how are you he ho    Hello John    how are you he ho    Hello John    how are you he ho    Hello John    how are you he ho   Hello John    how are you he ho      Hello John    how are you he ho    Hello John    how are you he ho    Hello John    how are you he ho    Hello John    how are you he ho    Hello John    how are you he ho    Hello John    how are you he ho   Hello John    how are you he ho      Hello John    how are you he ho    Hello John    how are you he ho    Hello John    how are you he ho    Hello John    how are you he ho    Hello John    how are you he ho    Hello John    how are you he ho   Hello John    how are you he ho      Hello John    how are you he ho    Hello John    how are you he ho    Hello John    how are you he ho    Hello John    how are you he ho    Hello John    how are you he ho    Hello John    how are you he ho   Hello John    how are you he ho      Hello John    how are you he ho    Hello John    how are you he ho    Hello John    how are you he ho    Hello John    how are you he ho    Hello John    how are you he ho    Hello John    how are you he ho   Hello John    how are you he ho      Hello John    how are you he ho    Hello John    how are you he ho    Hello John    how are you he ho    Hello John    how are you he ho    Hello John    how are you he ho    Hello John    how are you he ho   Hello John    how are you he ho      Hello John    how are you he ho    Hello John    how are you he ho    Hello John    how are you he ho    Hello John    how are you he ho    Hello John    how are you he ho    Hello John    how are you he ho     Hello John    how are you he ho      Hello John    how are you he ho    Hello John    how are you he ho    Hello John    how are you he ho    Hello John    how are you he ho    Hello John    how are you he ho    Hello John    how are you he ho   Hello John    how are you he ho      Hello John    how are you he ho    Hello John    how are you he ho    Hello John    how are you he ho    Hello John    how are you he ho    Hello John    how are you he ho    Hello John    how are you he ho   Hello John    how are you he ho      Hello John    how are you he ho    Hello John    how are you he ho    Hello John    how are you he ho    Hello John    how are you he ho    Hello John    how are you he ho    Hello John    how are you he ho   Hello John    how are you he ho      Hello John    how are you he ho    Hello John    how are you he ho    Hello John    how are you he ho    Hello John    how are you he ho    Hello John    how are you he ho    Hello John    how are you he ho   Hello John    how are you he ho      Hello John    how are you he ho    Hello John    how are you he ho    Hello John    how are you he ho    Hello John    how are you he ho    Hello John    how are you he ho    Hello John    how are you he ho   Hello John    how are you he ho      Hello John    how are you he ho    Hello John    how are you he ho    Hello John    how are you he ho    Hello John    how are you he ho    Hello John    how are you he ho    Hello John    how are you he ho   Hello John    how are you he ho      Hello John    how are you he ho    Hello John    how are you he ho    Hello John    how are you he ho    Hello John    how are you he ho    Hello John    how are you he ho    Hello John    how are you he ho   Hello John    how are you he ho      Hello John    how are you he ho    Hello John    how are you he ho    Hello John    how are you he ho    Hello John    how are you he ho    Hello John    how are you he ho    Hello John    how are you he ho   Hello John    how are you he ho      Hello John    how are you he ho    Hello John    how are you he ho    Hello John    how are you he ho    Hello John    how are you he ho    Hello John    how are you he ho    Hello John    how are you he ho   Hello John    how are you he ho      Hello John    how are you he ho    Hello John    how are you he ho    Hello John    how are you he ho    Hello John    how are you he ho    Hello John    how are you he ho    Hello John    how are you he ho   Hello John    how are you he ho      Hello John    how are you he ho    Hello John    how are you he ho    Hello John    how are you he ho    Hello John    how are you he ho    Hello John    how are you he ho    Hello John    how are you he ho  ')"
   ]
  },
  {
   "cell_type": "code",
   "execution_count": 38,
   "metadata": {},
   "outputs": [
    {
     "name": "stdout",
     "output_type": "stream",
     "text": [
      "1000 loops, best of 3: 1.19 ms per loop\n"
     ]
    }
   ],
   "source": [
    "%timeit rev_word3('   Hello John    how are you he ho      Hello John    how are you he ho    Hello John    how are you he ho    Hello John    how are you he ho    Hello John    how are you he ho    Hello John    how are you he ho    Hello John    how are you he ho   Hello John    how are you he ho      Hello John    how are you he ho    Hello John    how are you he ho    Hello John    how are you he ho    Hello John    how are you he ho    Hello John    how are you he ho    Hello John    how are you he ho   Hello John    how are you he ho      Hello John    how are you he ho    Hello John    how are you he ho    Hello John    how are you he ho    Hello John    how are you he ho    Hello John    how are you he ho    Hello John    how are you he ho   Hello John    how are you he ho      Hello John    how are you he ho    Hello John    how are you he ho    Hello John    how are you he ho    Hello John    how are you he ho    Hello John    how are you he ho    Hello John    how are you he ho   Hello John    how are you he ho      Hello John    how are you he ho    Hello John    how are you he ho    Hello John    how are you he ho    Hello John    how are you he ho    Hello John    how are you he ho    Hello John    how are you he ho   Hello John    how are you he ho      Hello John    how are you he ho    Hello John    how are you he ho    Hello John    how are you he ho    Hello John    how are you he ho    Hello John    how are you he ho    Hello John    how are you he ho   Hello John    how are you he ho      Hello John    how are you he ho    Hello John    how are you he ho    Hello John    how are you he ho    Hello John    how are you he ho    Hello John    how are you he ho    Hello John    how are you he ho   Hello John    how are you he ho      Hello John    how are you he ho    Hello John    how are you he ho    Hello John    how are you he ho    Hello John    how are you he ho    Hello John    how are you he ho    Hello John    how are you he ho   Hello John    how are you he ho      Hello John    how are you he ho    Hello John    how are you he ho    Hello John    how are you he ho    Hello John    how are you he ho    Hello John    how are you he ho    Hello John    how are you he ho   Hello John    how are you he ho      Hello John    how are you he ho    Hello John    how are you he ho    Hello John    how are you he ho    Hello John    how are you he ho    Hello John    how are you he ho    Hello John    how are you he ho   Hello John    how are you he ho      Hello John    how are you he ho    Hello John    how are you he ho    Hello John    how are you he ho    Hello John    how are you he ho    Hello John    how are you he ho    Hello John    how are you he ho     Hello John    how are you he ho      Hello John    how are you he ho    Hello John    how are you he ho    Hello John    how are you he ho    Hello John    how are you he ho    Hello John    how are you he ho    Hello John    how are you he ho   Hello John    how are you he ho      Hello John    how are you he ho    Hello John    how are you he ho    Hello John    how are you he ho    Hello John    how are you he ho    Hello John    how are you he ho    Hello John    how are you he ho   Hello John    how are you he ho      Hello John    how are you he ho    Hello John    how are you he ho    Hello John    how are you he ho    Hello John    how are you he ho    Hello John    how are you he ho    Hello John    how are you he ho   Hello John    how are you he ho      Hello John    how are you he ho    Hello John    how are you he ho    Hello John    how are you he ho    Hello John    how are you he ho    Hello John    how are you he ho    Hello John    how are you he ho   Hello John    how are you he ho      Hello John    how are you he ho    Hello John    how are you he ho    Hello John    how are you he ho    Hello John    how are you he ho    Hello John    how are you he ho    Hello John    how are you he ho   Hello John    how are you he ho      Hello John    how are you he ho    Hello John    how are you he ho    Hello John    how are you he ho    Hello John    how are you he ho    Hello John    how are you he ho    Hello John    how are you he ho   Hello John    how are you he ho      Hello John    how are you he ho    Hello John    how are you he ho    Hello John    how are you he ho    Hello John    how are you he ho    Hello John    how are you he ho    Hello John    how are you he ho   Hello John    how are you he ho      Hello John    how are you he ho    Hello John    how are you he ho    Hello John    how are you he ho    Hello John    how are you he ho    Hello John    how are you he ho    Hello John    how are you he ho   Hello John    how are you he ho      Hello John    how are you he ho    Hello John    how are you he ho    Hello John    how are you he ho    Hello John    how are you he ho    Hello John    how are you he ho    Hello John    how are you he ho   Hello John    how are you he ho      Hello John    how are you he ho    Hello John    how are you he ho    Hello John    how are you he ho    Hello John    how are you he ho    Hello John    how are you he ho    Hello John    how are you he ho   Hello John    how are you he ho      Hello John    how are you he ho    Hello John    how are you he ho    Hello John    how are you he ho    Hello John    how are you he ho    Hello John    how are you he ho    Hello John    how are you he ho     Hello John    how are you he ho      Hello John    how are you he ho    Hello John    how are you he ho    Hello John    how are you he ho    Hello John    how are you he ho    Hello John    how are you he ho    Hello John    how are you he ho   Hello John    how are you he ho      Hello John    how are you he ho    Hello John    how are you he ho    Hello John    how are you he ho    Hello John    how are you he ho    Hello John    how are you he ho    Hello John    how are you he ho   Hello John    how are you he ho      Hello John    how are you he ho    Hello John    how are you he ho    Hello John    how are you he ho    Hello John    how are you he ho    Hello John    how are you he ho    Hello John    how are you he ho   Hello John    how are you he ho      Hello John    how are you he ho    Hello John    how are you he ho    Hello John    how are you he ho    Hello John    how are you he ho    Hello John    how are you he ho    Hello John    how are you he ho   Hello John    how are you he ho      Hello John    how are you he ho    Hello John    how are you he ho    Hello John    how are you he ho    Hello John    how are you he ho    Hello John    how are you he ho    Hello John    how are you he ho   Hello John    how are you he ho      Hello John    how are you he ho    Hello John    how are you he ho    Hello John    how are you he ho    Hello John    how are you he ho    Hello John    how are you he ho    Hello John    how are you he ho   Hello John    how are you he ho      Hello John    how are you he ho    Hello John    how are you he ho    Hello John    how are you he ho    Hello John    how are you he ho    Hello John    how are you he ho    Hello John    how are you he ho   Hello John    how are you he ho      Hello John    how are you he ho    Hello John    how are you he ho    Hello John    how are you he ho    Hello John    how are you he ho    Hello John    how are you he ho    Hello John    how are you he ho   Hello John    how are you he ho      Hello John    how are you he ho    Hello John    how are you he ho    Hello John    how are you he ho    Hello John    how are you he ho    Hello John    how are you he ho    Hello John    how are you he ho   Hello John    how are you he ho      Hello John    how are you he ho    Hello John    how are you he ho    Hello John    how are you he ho    Hello John    how are you he ho    Hello John    how are you he ho    Hello John    how are you he ho   Hello John    how are you he ho      Hello John    how are you he ho    Hello John    how are you he ho    Hello John    how are you he ho    Hello John    how are you he ho    Hello John    how are you he ho    Hello John    how are you he ho  ')"
   ]
  },
  {
   "cell_type": "code",
   "execution_count": 39,
   "metadata": {},
   "outputs": [
    {
     "name": "stdout",
     "output_type": "stream",
     "text": [
      "1000 loops, best of 3: 1.19 ms per loop\n"
     ]
    }
   ],
   "source": [
    "%timeit rev_word_4('   Hello John    how are you he ho      Hello John    how are you he ho    Hello John    how are you he ho    Hello John    how are you he ho    Hello John    how are you he ho    Hello John    how are you he ho    Hello John    how are you he ho   Hello John    how are you he ho      Hello John    how are you he ho    Hello John    how are you he ho    Hello John    how are you he ho    Hello John    how are you he ho    Hello John    how are you he ho    Hello John    how are you he ho   Hello John    how are you he ho      Hello John    how are you he ho    Hello John    how are you he ho    Hello John    how are you he ho    Hello John    how are you he ho    Hello John    how are you he ho    Hello John    how are you he ho   Hello John    how are you he ho      Hello John    how are you he ho    Hello John    how are you he ho    Hello John    how are you he ho    Hello John    how are you he ho    Hello John    how are you he ho    Hello John    how are you he ho   Hello John    how are you he ho      Hello John    how are you he ho    Hello John    how are you he ho    Hello John    how are you he ho    Hello John    how are you he ho    Hello John    how are you he ho    Hello John    how are you he ho   Hello John    how are you he ho      Hello John    how are you he ho    Hello John    how are you he ho    Hello John    how are you he ho    Hello John    how are you he ho    Hello John    how are you he ho    Hello John    how are you he ho   Hello John    how are you he ho      Hello John    how are you he ho    Hello John    how are you he ho    Hello John    how are you he ho    Hello John    how are you he ho    Hello John    how are you he ho    Hello John    how are you he ho   Hello John    how are you he ho      Hello John    how are you he ho    Hello John    how are you he ho    Hello John    how are you he ho    Hello John    how are you he ho    Hello John    how are you he ho    Hello John    how are you he ho   Hello John    how are you he ho      Hello John    how are you he ho    Hello John    how are you he ho    Hello John    how are you he ho    Hello John    how are you he ho    Hello John    how are you he ho    Hello John    how are you he ho   Hello John    how are you he ho      Hello John    how are you he ho    Hello John    how are you he ho    Hello John    how are you he ho    Hello John    how are you he ho    Hello John    how are you he ho    Hello John    how are you he ho   Hello John    how are you he ho      Hello John    how are you he ho    Hello John    how are you he ho    Hello John    how are you he ho    Hello John    how are you he ho    Hello John    how are you he ho    Hello John    how are you he ho     Hello John    how are you he ho      Hello John    how are you he ho    Hello John    how are you he ho    Hello John    how are you he ho    Hello John    how are you he ho    Hello John    how are you he ho    Hello John    how are you he ho   Hello John    how are you he ho      Hello John    how are you he ho    Hello John    how are you he ho    Hello John    how are you he ho    Hello John    how are you he ho    Hello John    how are you he ho    Hello John    how are you he ho   Hello John    how are you he ho      Hello John    how are you he ho    Hello John    how are you he ho    Hello John    how are you he ho    Hello John    how are you he ho    Hello John    how are you he ho    Hello John    how are you he ho   Hello John    how are you he ho      Hello John    how are you he ho    Hello John    how are you he ho    Hello John    how are you he ho    Hello John    how are you he ho    Hello John    how are you he ho    Hello John    how are you he ho   Hello John    how are you he ho      Hello John    how are you he ho    Hello John    how are you he ho    Hello John    how are you he ho    Hello John    how are you he ho    Hello John    how are you he ho    Hello John    how are you he ho   Hello John    how are you he ho      Hello John    how are you he ho    Hello John    how are you he ho    Hello John    how are you he ho    Hello John    how are you he ho    Hello John    how are you he ho    Hello John    how are you he ho   Hello John    how are you he ho      Hello John    how are you he ho    Hello John    how are you he ho    Hello John    how are you he ho    Hello John    how are you he ho    Hello John    how are you he ho    Hello John    how are you he ho   Hello John    how are you he ho      Hello John    how are you he ho    Hello John    how are you he ho    Hello John    how are you he ho    Hello John    how are you he ho    Hello John    how are you he ho    Hello John    how are you he ho   Hello John    how are you he ho      Hello John    how are you he ho    Hello John    how are you he ho    Hello John    how are you he ho    Hello John    how are you he ho    Hello John    how are you he ho    Hello John    how are you he ho   Hello John    how are you he ho      Hello John    how are you he ho    Hello John    how are you he ho    Hello John    how are you he ho    Hello John    how are you he ho    Hello John    how are you he ho    Hello John    how are you he ho   Hello John    how are you he ho      Hello John    how are you he ho    Hello John    how are you he ho    Hello John    how are you he ho    Hello John    how are you he ho    Hello John    how are you he ho    Hello John    how are you he ho     Hello John    how are you he ho      Hello John    how are you he ho    Hello John    how are you he ho    Hello John    how are you he ho    Hello John    how are you he ho    Hello John    how are you he ho    Hello John    how are you he ho   Hello John    how are you he ho      Hello John    how are you he ho    Hello John    how are you he ho    Hello John    how are you he ho    Hello John    how are you he ho    Hello John    how are you he ho    Hello John    how are you he ho   Hello John    how are you he ho      Hello John    how are you he ho    Hello John    how are you he ho    Hello John    how are you he ho    Hello John    how are you he ho    Hello John    how are you he ho    Hello John    how are you he ho   Hello John    how are you he ho      Hello John    how are you he ho    Hello John    how are you he ho    Hello John    how are you he ho    Hello John    how are you he ho    Hello John    how are you he ho    Hello John    how are you he ho   Hello John    how are you he ho      Hello John    how are you he ho    Hello John    how are you he ho    Hello John    how are you he ho    Hello John    how are you he ho    Hello John    how are you he ho    Hello John    how are you he ho   Hello John    how are you he ho      Hello John    how are you he ho    Hello John    how are you he ho    Hello John    how are you he ho    Hello John    how are you he ho    Hello John    how are you he ho    Hello John    how are you he ho   Hello John    how are you he ho      Hello John    how are you he ho    Hello John    how are you he ho    Hello John    how are you he ho    Hello John    how are you he ho    Hello John    how are you he ho    Hello John    how are you he ho   Hello John    how are you he ho      Hello John    how are you he ho    Hello John    how are you he ho    Hello John    how are you he ho    Hello John    how are you he ho    Hello John    how are you he ho    Hello John    how are you he ho   Hello John    how are you he ho      Hello John    how are you he ho    Hello John    how are you he ho    Hello John    how are you he ho    Hello John    how are you he ho    Hello John    how are you he ho    Hello John    how are you he ho   Hello John    how are you he ho      Hello John    how are you he ho    Hello John    how are you he ho    Hello John    how are you he ho    Hello John    how are you he ho    Hello John    how are you he ho    Hello John    how are you he ho   Hello John    how are you he ho      Hello John    how are you he ho    Hello John    how are you he ho    Hello John    how are you he ho    Hello John    how are you he ho    Hello John    how are you he ho    Hello John    how are you he ho  ')"
   ]
  },
  {
   "cell_type": "markdown",
   "metadata": {},
   "source": [
    "_____"
   ]
  },
  {
   "cell_type": "markdown",
   "metadata": {},
   "source": [
    "# Test Your Solution"
   ]
  },
  {
   "cell_type": "code",
   "execution_count": 7,
   "metadata": {},
   "outputs": [
    {
     "name": "stdout",
     "output_type": "stream",
     "text": [
      "ALL TEST CASES PASSED\n"
     ]
    }
   ],
   "source": [
    "\"\"\"\n",
    "RUN THIS CELL TO TEST YOUR SOLUTION\n",
    "\"\"\"\n",
    "\n",
    "from nose.tools import assert_equal\n",
    "\n",
    "class ReversalTest(object):\n",
    "    \n",
    "    def test(self,sol):\n",
    "        assert_equal(sol('    space before'),'before space')\n",
    "        assert_equal(sol('space after     '),'after space')\n",
    "        assert_equal(sol('   Hello John    how are you   '),'you are how John Hello')\n",
    "        assert_equal(sol('1'),'1')\n",
    "        print \"ALL TEST CASES PASSED\"\n",
    "        \n",
    "# Run and test\n",
    "t = ReversalTest()\n",
    "t.test(rev_word)"
   ]
  },
  {
   "cell_type": "markdown",
   "metadata": {},
   "source": [
    "## Good Job!"
   ]
  }
 ],
 "metadata": {
  "kernelspec": {
   "display_name": "Python 2",
   "language": "python",
   "name": "python2"
  },
  "language_info": {
   "codemirror_mode": {
    "name": "ipython",
    "version": 2
   },
   "file_extension": ".py",
   "mimetype": "text/x-python",
   "name": "python",
   "nbconvert_exporter": "python",
   "pygments_lexer": "ipython2",
   "version": "2.7.14"
  }
 },
 "nbformat": 4,
 "nbformat_minor": 1
}
