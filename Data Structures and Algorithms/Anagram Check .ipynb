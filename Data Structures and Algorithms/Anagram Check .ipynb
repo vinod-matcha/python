{
 "cells": [
  {
   "cell_type": "markdown",
   "metadata": {},
   "source": [
    "# Anagram Check\n",
    "\n",
    "## Problem\n",
    "\n",
    "Given two strings, check to see if they are anagrams. An anagram is when the two strings can be written using the exact same letters (so you can just rearrange the letters to get a different phrase or word). \n",
    "\n",
    "For example:\n",
    "\n",
    "    \"public relations\" is an anagram of \"crap built on lies.\"\n",
    "    \n",
    "    \"clint eastwood\" is an anagram of \"old west action\"\n",
    "    \n",
    "**Note: Ignore spaces and capitalization. So \"d go\" is an anagram of \"God\" and \"dog\" and \"o d g\".**\n",
    "\n",
    "## Solution\n",
    "\n",
    "Fill out your solution below:\n"
   ]
  },
  {
   "cell_type": "code",
   "execution_count": 13,
   "metadata": {
    "collapsed": true
   },
   "outputs": [],
   "source": [
    "# after removing spaces, compare sorted strings, if same then anagram\n",
    "def anagram_py(s1, s2):\n",
    "    l1 = rem_space(s1)\n",
    "    l2 = rem_space(s2)\n",
    "    \n",
    "    if len(l1) == len(l2) and sorted(l1) == sorted(l2):\n",
    "        return True\n",
    "    else:\n",
    "        return False\n",
    "\n",
    "# using dictionary to count the occurance of characters in string1 and then decrementing the counters based on string2\n",
    "# if the final sum of values in dictionary is 0 then anagram\n",
    "def anagram(s1, s2):\n",
    "    dict1={}\n",
    "    \n",
    "    # remove spaces and convert to lower case\n",
    "    s1 = rem_space(s1.lower())\n",
    "    s2 = rem_space(s2.lower())\n",
    "    \n",
    "    # edge test case\n",
    "    if len(s1) != len(s2):\n",
    "        return False\n",
    "    \n",
    "    for i in s1:\n",
    "        if dict1.has_key(i):\n",
    "            dict1[i] = dict1[i] + 1\n",
    "        else:\n",
    "            dict1[i] = 1\n",
    "    for i in s2:\n",
    "        if dict1.has_key(i):\n",
    "            dict1[i] = dict1[i] - 1\n",
    "        else:\n",
    "            return False\n",
    "    if sum(dict1.values()) == 0: \n",
    "        return True\n",
    "    else:\n",
    "         return False\n",
    "\n",
    "        \n",
    "def rem_space(a):\n",
    "    l=[]\n",
    "    for i in a:\n",
    "        if  i == ' ':\n",
    "            continue\n",
    "        else:\n",
    "            l.append(i)\n",
    "    return l"
   ]
  },
  {
   "cell_type": "code",
   "execution_count": 14,
   "metadata": {},
   "outputs": [
    {
     "data": {
      "text/plain": [
       "True"
      ]
     },
     "execution_count": 14,
     "metadata": {},
     "output_type": "execute_result"
    }
   ],
   "source": [
    "anagram_py('dog','god')"
   ]
  },
  {
   "cell_type": "code",
   "execution_count": 15,
   "metadata": {},
   "outputs": [
    {
     "data": {
      "text/plain": [
       "True"
      ]
     },
     "execution_count": 15,
     "metadata": {},
     "output_type": "execute_result"
    }
   ],
   "source": [
    "anagram_py('clint eastwood','old west action')"
   ]
  },
  {
   "cell_type": "code",
   "execution_count": 16,
   "metadata": {},
   "outputs": [
    {
     "data": {
      "text/plain": [
       "False"
      ]
     },
     "execution_count": 16,
     "metadata": {},
     "output_type": "execute_result"
    }
   ],
   "source": [
    "anagram_py('aa','bb')"
   ]
  },
  {
   "cell_type": "markdown",
   "metadata": {},
   "source": [
    "# Test Your Solution\n",
    "Run the cell below to test your solution"
   ]
  },
  {
   "cell_type": "code",
   "execution_count": 18,
   "metadata": {},
   "outputs": [
    {
     "name": "stdout",
     "output_type": "stream",
     "text": [
      "ALL TEST CASES PASSED\n",
      "ALL TEST CASES PASSED\n"
     ]
    },
    {
     "data": {
      "text/plain": [
       "(None, None)"
      ]
     },
     "execution_count": 18,
     "metadata": {},
     "output_type": "execute_result"
    }
   ],
   "source": [
    "\"\"\"\n",
    "RUN THIS CELL TO TEST YOUR SOLUTION\n",
    "\"\"\"\n",
    "from nose.tools import assert_equal\n",
    "\n",
    "class AnagramTest(object):\n",
    "    \n",
    "    def test(self,sol):\n",
    "        assert_equal(sol('go go go','gggooo'),True)\n",
    "        assert_equal(sol('abc','cba'),True)\n",
    "        assert_equal(sol('hi man','hi     man'),True)\n",
    "        assert_equal(sol('aabbcc','aabbc'),False)\n",
    "        assert_equal(sol('123','1 2'),False)\n",
    "        print \"ALL TEST CASES PASSED\"\n",
    "\n",
    "# Run Tests\n",
    "t = AnagramTest()\n",
    "t.test(anagram), t.test(anagram_py)"
   ]
  },
  {
   "cell_type": "markdown",
   "metadata": {},
   "source": [
    "# Good Job!"
   ]
  }
 ],
 "metadata": {
  "kernelspec": {
   "display_name": "Python 2",
   "language": "python",
   "name": "python2"
  },
  "language_info": {
   "codemirror_mode": {
    "name": "ipython",
    "version": 2
   },
   "file_extension": ".py",
   "mimetype": "text/x-python",
   "name": "python",
   "nbconvert_exporter": "python",
   "pygments_lexer": "ipython2",
   "version": "2.7.14"
  }
 },
 "nbformat": 4,
 "nbformat_minor": 1
}
