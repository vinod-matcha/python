{
 "cells": [
  {
   "cell_type": "markdown",
   "metadata": {},
   "source": [
    "# Largest Continuous Sum\n",
    "\n",
    "## Problem\n",
    "Given an array of integers (positive and negative) find the largest continuous sum. \n",
    "\n",
    "## Solution\n",
    "\n",
    "Fill out your solution below:"
   ]
  },
  {
   "cell_type": "code",
   "execution_count": 8,
   "metadata": {
    "collapsed": true
   },
   "outputs": [],
   "source": [
    "def large_cont_sum(arr): \n",
    "    \n",
    "    cnt = 0\n",
    "    start_index = end_index = 0\n",
    "    \n",
    "    #edge case set values to first value of array and not 0, as the array can have only all negatives\n",
    "    #in which case 0 will become the max number\n",
    "    curr_sum = max_sum = arr[0]\n",
    "    \n",
    "    for num in arr[1:]:\n",
    "        # 1. largest cumulative sum can be Positive or Negative. Eg [1,2,-4] here largest continous sum is 3 and not -4, as -4 < (is less than) 3 \n",
    "        # 2. curr_sum keeps track of the maximum cumulative sum as long as the (curr_sum+num) is positive.\n",
    "        # 3. if (curr_sum+num) becomes negative or 0, then takes the Max of {(curr_sum+num) or current num}, to Reset the curr_sum value\n",
    "        #    which will just equal the maximum negative number. [-9,-1,-4,-8] this results in -1 as the max_sum, as it is the maximum value\n",
    "        # 4. so Reset curr_sum value can be used to track the next Max cumulative sum which can be updated to max_sum variable\n",
    "        curr_sum = max(curr_sum + num, num)\n",
    "        \n",
    "        #assign the maximum value\n",
    "        max_sum = max(max_sum, curr_sum)\n",
    "        \n",
    "        #set end_point when curr_sum increases and is used to set the max_sum\n",
    "        if max_sum == curr_sum and num != 0:\n",
    "            end_index = cnt\n",
    "                \n",
    "        #set start_point when new curr_sum is < 0 , as the next possible cnt (index) value\n",
    "        if curr_sum < 0:\n",
    "            start_index = cnt + 1\n",
    "            \n",
    "        cnt += 1\n",
    "        \n",
    "    return max_sum #, start_index, end_index"
   ]
  },
  {
   "cell_type": "code",
   "execution_count": 9,
   "metadata": {},
   "outputs": [
    {
     "data": {
      "text/plain": [
       "10"
      ]
     },
     "execution_count": 9,
     "metadata": {},
     "output_type": "execute_result"
    }
   ],
   "source": [
    "large_cont_sum([1,2,-4,3,7])"
   ]
  },
  {
   "cell_type": "code",
   "execution_count": 10,
   "metadata": {},
   "outputs": [
    {
     "data": {
      "text/plain": [
       "-1"
      ]
     },
     "execution_count": 10,
     "metadata": {},
     "output_type": "execute_result"
    }
   ],
   "source": [
    "large_cont_sum([-9,-1,-4,-8])"
   ]
  },
  {
   "cell_type": "markdown",
   "metadata": {},
   "source": [
    "____\n",
    "Many times in an interview setting the question also requires you to report back the start and end points of the sum. Keep this in mind and see if you can solve that problem, we'll see it in the mock interview section of the course!"
   ]
  },
  {
   "cell_type": "markdown",
   "metadata": {},
   "source": [
    "# Test Your Solution"
   ]
  },
  {
   "cell_type": "code",
   "execution_count": 11,
   "metadata": {},
   "outputs": [
    {
     "name": "stdout",
     "output_type": "stream",
     "text": [
      "ALL TEST CASES PASSED\n"
     ]
    }
   ],
   "source": [
    "from nose.tools import assert_equal\n",
    "\n",
    "class LargeContTest(object):\n",
    "    def test(self,sol):\n",
    "        assert_equal(sol([1,2,-1,3,4,-1]),9)\n",
    "        assert_equal(sol([1,2,-1,3,4,10,10,-10,-1]),29)\n",
    "        assert_equal(sol([-1,1]),1)\n",
    "        print 'ALL TEST CASES PASSED'\n",
    "        \n",
    "#Run Test\n",
    "t = LargeContTest()\n",
    "t.test(large_cont_sum)"
   ]
  },
  {
   "cell_type": "markdown",
   "metadata": {},
   "source": [
    "## Good Job!"
   ]
  }
 ],
 "metadata": {
  "kernelspec": {
   "display_name": "Python 2",
   "language": "python",
   "name": "python2"
  },
  "language_info": {
   "codemirror_mode": {
    "name": "ipython",
    "version": 2
   },
   "file_extension": ".py",
   "mimetype": "text/x-python",
   "name": "python",
   "nbconvert_exporter": "python",
   "pygments_lexer": "ipython2",
   "version": "2.7.14"
  }
 },
 "nbformat": 4,
 "nbformat_minor": 1
}
