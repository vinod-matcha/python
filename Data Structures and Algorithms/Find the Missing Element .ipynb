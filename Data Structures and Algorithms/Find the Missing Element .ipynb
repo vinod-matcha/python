{
 "cells": [
  {
   "cell_type": "markdown",
   "metadata": {},
   "source": [
    "# Find the Missing Element\n",
    "\n",
    "## Problem\n",
    "\n",
    "Consider an array of non-negative integers. A second array is formed by shuffling the elements of the first array and deleting a random element. Given these two arrays, find which element is missing in the second array. \n",
    "\n",
    "Here is an example input, the first array is shuffled and the number 5 is removed to construct the second array.\n",
    "\n",
    "Input:\n",
    "    \n",
    "    finder([1,2,3,4,5,6,7],[3,7,2,1,4,6])\n",
    "\n",
    "Output:\n",
    "\n",
    "    5 is the missing number\n",
    "\n",
    "## Solution\n",
    "\n",
    "Fill out your solution below:"
   ]
  },
  {
   "cell_type": "code",
   "execution_count": 3,
   "metadata": {
    "collapsed": true
   },
   "outputs": [],
   "source": [
    "def finder(arr1,arr2):\n",
    "    dic = {}\n",
    "    '''\n",
    "    finding the missing element in smaller array, by building a dictionary with keys from smaller array \n",
    "    with values as number of occurances. Next iterate over the larger array and decrement for matching keys if value >1, delete \n",
    "    for value =1 and return if not found\n",
    "    Has Time Complexity O(n)\n",
    "    -> Gave the Best Performance for this example scenario, check the %timeit below\n",
    "    '''\n",
    "    #create a dictionary with smaller array\n",
    "    for i in arr2:  #O(n) operation\n",
    "        if i in dic:  #O(1) operation\n",
    "            dic[i] += 1\n",
    "        else:\n",
    "            dic[i] = 1\n",
    "    \n",
    "    for j in arr1:  #O(n) operation\n",
    "        if j not in dic: #if not present return missing key, O(1) operation for every element in array\n",
    "            return j\n",
    "        elif dic[j] == 1: #if present with value =1 then delete from dictionary, O(1) operation for every element in array\n",
    "            dic.pop(j)\n",
    "        else:\n",
    "            dic[j] -= 1 #if present with value >1 then decrement count, O(1) operation for every element in array\n",
    "\n",
    "\n",
    "import collections\n",
    "def finder_tuned(arr1,arr2):\n",
    "    dic = collections.defaultdict(int)\n",
    "    '''\n",
    "    finding the missing element in smaller array, by building a dictionary with keys from smaller array \n",
    "    with values as number of occurances. Next iterate over the larger array and decrement for matching keys, \n",
    "    return the key whose value when searched is 0\n",
    "    Has Time Complexity O(n)\n",
    "    Tried to tune it, but due to collections usage to create default dict seems to take more time than previous example\n",
    "    '''\n",
    "    #create a dictionary with smaller array\n",
    "    for i in arr2:  #O(n) operation\n",
    "        dic[i] += 1\n",
    "    \n",
    "    for j in arr1:  #O(n) operation\n",
    "        if dic[j] == 0: #if value is 0, means key 'j' is the missing element\n",
    "            return j\n",
    "        else:\n",
    "            dic[j] -= 1\n",
    "            \n",
    "            \n",
    "def finder_1(arr1,arr2):\n",
    "    dic = {}\n",
    "    '''\n",
    "    sort both arrays and iterate over them simultaneously, when the values mismatch the value from larger array is the \n",
    "    missing element in the smaller array\n",
    "    Has Time complexity of O(n)\n",
    "    '''\n",
    "    large_arr = sorted(arr1)\n",
    "    small_arr = sorted(arr2)\n",
    "    #create list of tuples\n",
    "    #tup = map(lambda x,y:(x,y), large_arr,small_arr)\n",
    "    tup = zip(large_arr,small_arr)\n",
    "    \n",
    "    #unpack tuples, compare elements and return element from large array\n",
    "    for (i,j) in tup:\n",
    "        if i<>j:\n",
    "            return i\n",
    "        else:\n",
    "            pass\n",
    "        \n",
    "def finder_sum(arr1, arr2):\n",
    "    '''\n",
    "    This approach tries to sum up the values in arr1 and arr2, then find the difference to get the missing number\n",
    "    But this has problems especially:\n",
    "    1. if the numbers in array are really big numbers and number of elements is more, then you can get overflow errors.\n",
    "    2. if there are really small decimal numbers with may decimal digits, then we can loose some information \n",
    "    if precision is fixed.    eg: 1.99+1.89 <>\n",
    "    '''\n",
    "    \n",
    "def finder_2(arr1, arr2):\n",
    "    '''\n",
    "    This approach uses a clever TRICK to achieve linear time and constant space complexity, \n",
    "    using XOR (outputs True when inputs differ), output is obtained in couple lines\n",
    "    Perform the Exclusive OR between the numbers in Array\n",
    "    But the performance is almost near, and still slightly more than the first method.\n",
    "    '''\n",
    "    result = 0\n",
    "    for num in arr1+arr2:\n",
    "        result ^= num\n",
    "        #print result\n",
    "    return result"
   ]
  },
  {
   "cell_type": "code",
   "execution_count": 4,
   "metadata": {},
   "outputs": [
    {
     "data": {
      "text/plain": [
       "(5, 5, 5, 5)"
      ]
     },
     "execution_count": 4,
     "metadata": {},
     "output_type": "execute_result"
    }
   ],
   "source": [
    "arr1 = [1,2,3,4,5,6,7]\n",
    "arr2 = [3,7,2,1,4,6]\n",
    "finder(arr1,arr2), finder_tuned(arr1,arr2), finder_1(arr1,arr2), finder_2(arr1,arr2)"
   ]
  },
  {
   "cell_type": "code",
   "execution_count": 32,
   "metadata": {},
   "outputs": [
    {
     "data": {
      "text/plain": [
       "(5, 5)"
      ]
     },
     "execution_count": 32,
     "metadata": {},
     "output_type": "execute_result"
    }
   ],
   "source": [
    "arr1 = [5,5,7,7]\n",
    "arr2 = [5,7,7]\n",
    "\n",
    "finder(arr1,arr2), finder_1(arr1,arr2), finder_2(arr1,arr2)"
   ]
  },
  {
   "cell_type": "code",
   "execution_count": 34,
   "metadata": {},
   "outputs": [
    {
     "name": "stdout",
     "output_type": "stream",
     "text": [
      "1000000 loops, best of 3: 900 ns per loop\n"
     ]
    }
   ],
   "source": [
    "%timeit finder(arr1,arr2)"
   ]
  },
  {
   "cell_type": "code",
   "execution_count": 35,
   "metadata": {},
   "outputs": [
    {
     "name": "stdout",
     "output_type": "stream",
     "text": [
      "The slowest run took 6.76 times longer than the fastest. This could mean that an intermediate result is being cached.\n",
      "1000000 loops, best of 3: 1.31 µs per loop\n"
     ]
    }
   ],
   "source": [
    "%timeit finder_tuned(arr1,arr2)"
   ]
  },
  {
   "cell_type": "code",
   "execution_count": 36,
   "metadata": {},
   "outputs": [
    {
     "name": "stdout",
     "output_type": "stream",
     "text": [
      "100000 loops, best of 3: 1.75 µs per loop\n"
     ]
    }
   ],
   "source": [
    "%timeit finder_1(arr1,arr2)"
   ]
  },
  {
   "cell_type": "code",
   "execution_count": 5,
   "metadata": {},
   "outputs": [
    {
     "name": "stdout",
     "output_type": "stream",
     "text": [
      "1000000 loops, best of 3: 933 ns per loop\n"
     ]
    }
   ],
   "source": [
    "%timeit finder_2(arr1,arr2)"
   ]
  },
  {
   "cell_type": "markdown",
   "metadata": {},
   "source": [
    "_____"
   ]
  },
  {
   "cell_type": "markdown",
   "metadata": {},
   "source": [
    "# Test Your Solution"
   ]
  },
  {
   "cell_type": "code",
   "execution_count": 37,
   "metadata": {},
   "outputs": [
    {
     "name": "stdout",
     "output_type": "stream",
     "text": [
      "ALL TEST CASES PASSED\n",
      "ALL TEST CASES PASSED\n",
      "ALL TEST CASES PASSED\n"
     ]
    },
    {
     "data": {
      "text/plain": [
       "(None, None, None)"
      ]
     },
     "execution_count": 37,
     "metadata": {},
     "output_type": "execute_result"
    }
   ],
   "source": [
    "\"\"\"\n",
    "RUN THIS CELL TO TEST YOUR SOLUTION\n",
    "\"\"\"\n",
    "from nose.tools import assert_equal\n",
    "\n",
    "class TestFinder(object):\n",
    "    \n",
    "    def test(self,sol):\n",
    "        assert_equal(sol([5,5,7,7],[5,7,7]),5)\n",
    "        assert_equal(sol([1,2,3,4,5,6,7],[3,7,2,1,4,6]),5)\n",
    "        assert_equal(sol([9,8,7,6,5,4,3,2,1],[9,8,7,5,4,3,2,1]),6)\n",
    "        print 'ALL TEST CASES PASSED'\n",
    "\n",
    "# Run test\n",
    "t = TestFinder()\n",
    "t.test(finder), t.test(finder_tuned), t.test(finder_1)"
   ]
  },
  {
   "cell_type": "markdown",
   "metadata": {},
   "source": [
    "## Good Job!"
   ]
  }
 ],
 "metadata": {
  "kernelspec": {
   "display_name": "Python 2",
   "language": "python",
   "name": "python2"
  },
  "language_info": {
   "codemirror_mode": {
    "name": "ipython",
    "version": 2
   },
   "file_extension": ".py",
   "mimetype": "text/x-python",
   "name": "python",
   "nbconvert_exporter": "python",
   "pygments_lexer": "ipython2",
   "version": "2.7.14"
  }
 },
 "nbformat": 4,
 "nbformat_minor": 1
}
