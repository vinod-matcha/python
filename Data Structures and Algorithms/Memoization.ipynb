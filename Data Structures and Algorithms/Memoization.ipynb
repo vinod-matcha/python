{
 "cells": [
  {
   "cell_type": "code",
   "execution_count": 64,
   "metadata": {
    "collapsed": true
   },
   "outputs": [],
   "source": [
    "def factorial(n):\n",
    "    '''factorial function'''\n",
    "    if n < 2:\n",
    "        return 1\n",
    "    else:\n",
    "        return n * factorial(n-1)\n",
    "        \n",
    "        \n",
    "# Create cache for known results\n",
    "factorial_memo = {}\n",
    "def factorial_1(k):\n",
    "    \"\"\"Memoization of factorial function\"\"\"\n",
    "    if k < 2: \n",
    "        return 1\n",
    "    \n",
    "    if k not in factorial_memo:\n",
    "        factorial_memo[k] = k * factorial(k-1)\n",
    "    else:\n",
    "        return factorial_memo[k]\n",
    "    \n",
    "    return factorial_memo[k]"
   ]
  },
  {
   "cell_type": "code",
   "execution_count": 67,
   "metadata": {},
   "outputs": [
    {
     "data": {
      "text/plain": [
       "6"
      ]
     },
     "execution_count": 67,
     "metadata": {},
     "output_type": "execute_result"
    }
   ],
   "source": [
    "factorial_1(3)"
   ]
  },
  {
   "cell_type": "code",
   "execution_count": 56,
   "metadata": {},
   "outputs": [
    {
     "name": "stdout",
     "output_type": "stream",
     "text": [
      "1000000 loops, best of 3: 920 ns per loop\n"
     ]
    }
   ],
   "source": [
    "%timeit factorial(6)"
   ]
  },
  {
   "cell_type": "code",
   "execution_count": 57,
   "metadata": {},
   "outputs": [
    {
     "name": "stdout",
     "output_type": "stream",
     "text": [
      "The slowest run took 22.05 times longer than the fastest. This could mean that an intermediate result is being cached.\n",
      "10000000 loops, best of 3: 190 ns per loop\n"
     ]
    }
   ],
   "source": [
    "%timeit factorial_1(6)"
   ]
  },
  {
   "cell_type": "markdown",
   "metadata": {},
   "source": [
    "### Encapsulating Memoization"
   ]
  },
  {
   "cell_type": "code",
   "execution_count": 1,
   "metadata": {
    "collapsed": true
   },
   "outputs": [],
   "source": [
    "class Memoize_fact(object):\n",
    "    '''\n",
    "    Encapsulating the factorial recursion function with Memoization.\n",
    "    \n",
    "    Attributes:\n",
    "    num : number for which factorial value is to be returned. \n",
    "          required as the 'var' used in recursion funciton will have its value changed to base value at end of recursion\n",
    "    memo : dictionary to store factorial values after they are calculated for first time\n",
    "    '''\n",
    "    \n",
    "    def __init__(self, num = 0):\n",
    "        self.num = num\n",
    "        self.memo = {}\n",
    "    \n",
    "    def fact(self, var):\n",
    "        \"\"\"\n",
    "        function to check&return or calculate if necessary the factorial value\n",
    "        \n",
    "        Attributes:\n",
    "        var : var for which factorial is to be calculated\n",
    "        \"\"\"\n",
    "        #assign var to class attribute\n",
    "        self.num = var\n",
    "        \n",
    "        #check and return pre calculated factorial value\n",
    "        if var in self.memo:\n",
    "            print ('pre-calculated')\n",
    "            return self.memo[var]\n",
    "        else:\n",
    "            #call private factorial function and store result in dictionay\n",
    "            print ('store to memo', var, self.num)\n",
    "            #self.num used, as var value will change to 1, at end of recursion\n",
    "            self.memo[self.num] = self._fact_calc(var)\n",
    "            \n",
    "            #print result\n",
    "            return self.memo[self.num]\n",
    "    \n",
    "    #define private function\n",
    "    def _fact_calc(self, var):\n",
    "        if var < 2:\n",
    "            #base condition to return 1 and exit the recursion loop\n",
    "            print ('Test Base condition', var, self.num)\n",
    "            return 1\n",
    "        else:\n",
    "            #calculate factorial through recursion\n",
    "            print ('calculate factorial', var, self.num)\n",
    "            return var * self._fact_calc(var - 1)\n",
    "        "
   ]
  },
  {
   "cell_type": "code",
   "execution_count": 2,
   "metadata": {
    "collapsed": true
   },
   "outputs": [],
   "source": [
    "factorial = Memoize_fact()"
   ]
  },
  {
   "cell_type": "code",
   "execution_count": 9,
   "metadata": {},
   "outputs": [
    {
     "name": "stdout",
     "output_type": "stream",
     "text": [
      "('store to memo', 6, 6)\n",
      "('calculate factorial', 6, 6)\n",
      "('calculate factorial', 5, 6)\n",
      "('calculate factorial', 4, 6)\n",
      "('calculate factorial', 3, 6)\n",
      "('calculate factorial', 2, 6)\n",
      "('Test Base condition', 1, 6)\n"
     ]
    },
    {
     "data": {
      "text/plain": [
       "720"
      ]
     },
     "execution_count": 9,
     "metadata": {},
     "output_type": "execute_result"
    }
   ],
   "source": [
    "factorial.fact(6)"
   ]
  },
  {
   "cell_type": "code",
   "execution_count": 10,
   "metadata": {},
   "outputs": [
    {
     "data": {
      "text/plain": [
       "{2: 2, 3: 6, 4: 24, 5: 120, 6: 720, 7: 5040}"
      ]
     },
     "execution_count": 10,
     "metadata": {},
     "output_type": "execute_result"
    }
   ],
   "source": [
    "factorial.memo"
   ]
  },
  {
   "cell_type": "code",
   "execution_count": 11,
   "metadata": {},
   "outputs": [
    {
     "data": {
      "text/plain": [
       "6"
      ]
     },
     "execution_count": 11,
     "metadata": {},
     "output_type": "execute_result"
    }
   ],
   "source": [
    "factorial.num"
   ]
  },
  {
   "cell_type": "code",
   "execution_count": null,
   "metadata": {
    "collapsed": true
   },
   "outputs": [],
   "source": []
  }
 ],
 "metadata": {
  "kernelspec": {
   "display_name": "Python 2",
   "language": "python",
   "name": "python2"
  },
  "language_info": {
   "codemirror_mode": {
    "name": "ipython",
    "version": 2
   },
   "file_extension": ".py",
   "mimetype": "text/x-python",
   "name": "python",
   "nbconvert_exporter": "python",
   "pygments_lexer": "ipython2",
   "version": "2.7.14"
  }
 },
 "nbformat": 4,
 "nbformat_minor": 2
}
